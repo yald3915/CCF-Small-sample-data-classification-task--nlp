{
  "cells": [
    {
      "cell_type": "code",
      "source": [
        "!pip install transformers"
      ],
      "metadata": {
        "colab": {
          "base_uri": "https://localhost:8080/"
        },
        "id": "rSkRdkIVilFw",
        "outputId": "f50cb163-2d2d-41d5-bc43-a233e23d5c5d"
      },
      "execution_count": 23,
      "outputs": [
        {
          "output_type": "stream",
          "name": "stdout",
          "text": [
            "Looking in indexes: https://pypi.org/simple, https://us-python.pkg.dev/colab-wheels/public/simple/\n",
            "Requirement already satisfied: transformers in /usr/local/lib/python3.7/dist-packages (4.22.1)\n",
            "Requirement already satisfied: numpy>=1.17 in /usr/local/lib/python3.7/dist-packages (from transformers) (1.21.6)\n",
            "Requirement already satisfied: tqdm>=4.27 in /usr/local/lib/python3.7/dist-packages (from transformers) (4.64.1)\n",
            "Requirement already satisfied: requests in /usr/local/lib/python3.7/dist-packages (from transformers) (2.23.0)\n",
            "Requirement already satisfied: regex!=2019.12.17 in /usr/local/lib/python3.7/dist-packages (from transformers) (2022.6.2)\n",
            "Requirement already satisfied: packaging>=20.0 in /usr/local/lib/python3.7/dist-packages (from transformers) (21.3)\n",
            "Requirement already satisfied: tokenizers!=0.11.3,<0.13,>=0.11.1 in /usr/local/lib/python3.7/dist-packages (from transformers) (0.12.1)\n",
            "Requirement already satisfied: huggingface-hub<1.0,>=0.9.0 in /usr/local/lib/python3.7/dist-packages (from transformers) (0.9.1)\n",
            "Requirement already satisfied: pyyaml>=5.1 in /usr/local/lib/python3.7/dist-packages (from transformers) (6.0)\n",
            "Requirement already satisfied: importlib-metadata in /usr/local/lib/python3.7/dist-packages (from transformers) (4.12.0)\n",
            "Requirement already satisfied: filelock in /usr/local/lib/python3.7/dist-packages (from transformers) (3.8.0)\n",
            "Requirement already satisfied: typing-extensions>=3.7.4.3 in /usr/local/lib/python3.7/dist-packages (from huggingface-hub<1.0,>=0.9.0->transformers) (4.1.1)\n",
            "Requirement already satisfied: pyparsing!=3.0.5,>=2.0.2 in /usr/local/lib/python3.7/dist-packages (from packaging>=20.0->transformers) (3.0.9)\n",
            "Requirement already satisfied: zipp>=0.5 in /usr/local/lib/python3.7/dist-packages (from importlib-metadata->transformers) (3.8.1)\n",
            "Requirement already satisfied: certifi>=2017.4.17 in /usr/local/lib/python3.7/dist-packages (from requests->transformers) (2022.6.15)\n",
            "Requirement already satisfied: idna<3,>=2.5 in /usr/local/lib/python3.7/dist-packages (from requests->transformers) (2.10)\n",
            "Requirement already satisfied: chardet<4,>=3.0.2 in /usr/local/lib/python3.7/dist-packages (from requests->transformers) (3.0.4)\n",
            "Requirement already satisfied: urllib3!=1.25.0,!=1.25.1,<1.26,>=1.21.1 in /usr/local/lib/python3.7/dist-packages (from requests->transformers) (1.24.3)\n"
          ]
        }
      ]
    },
    {
      "cell_type": "code",
      "source": [
        "from google.colab import drive\n",
        "drive.mount('/content/drive')"
      ],
      "metadata": {
        "colab": {
          "base_uri": "https://localhost:8080/"
        },
        "id": "wvtuRISuhk9b",
        "outputId": "0bfb20ab-4742-422b-c195-41e07770a58c"
      },
      "execution_count": 24,
      "outputs": [
        {
          "output_type": "stream",
          "name": "stdout",
          "text": [
            "Drive already mounted at /content/drive; to attempt to forcibly remount, call drive.mount(\"/content/drive\", force_remount=True).\n"
          ]
        }
      ]
    },
    {
      "cell_type": "code",
      "execution_count": 25,
      "metadata": {
        "id": "PQqlhbkvhbJ3"
      },
      "outputs": [],
      "source": [
        "import numpy as np\n",
        "import pandas as pd\n",
        "import time\n",
        "import math\n",
        "from sklearn.model_selection import StratifiedKFold\n",
        "from sklearn.metrics import f1_score\n",
        "from torch.optim import Adam, SGD, AdamW\n",
        "from transformers import get_linear_schedule_with_warmup, get_cosine_schedule_with_warmup, DataCollatorWithPadding\n",
        "from transformers import BertTokenizer,AutoModel,AdamW,AutoConfig, AutoModelForSequenceClassification, AutoTokenizer\n",
        "import torch\n",
        "from torch.utils.data import Dataset, DataLoader\n",
        "from torch.optim import lr_scheduler\n",
        "import torch.nn.functional as F\n",
        "from tqdm import tqdm\n",
        "import copy\n",
        "import torch.nn as nn\n",
        "import os\n",
        "import json\n",
        "import gc\n",
        "import random"
      ]
    },
    {
      "cell_type": "code",
      "execution_count": 26,
      "metadata": {
        "id": "tzQrEEythbKJ"
      },
      "outputs": [],
      "source": [
        "class CFG:\n",
        "    input_path = '/content/drive/MyDrive/ccf/'\n",
        "    model_path = 'hfl/chinese-roberta-wwm-ext' #  nghuyong/ernie-2.0-large-en studio-ousia/luke-large\n",
        "    scheduler = 'cosine'  # ['linear', 'cosine']\n",
        "    batch_scheduler = True\n",
        "    num_cycles = 0.5  # 1.5\n",
        "    num_warmup_steps = 0\n",
        "    max_input_length = 1024\n",
        "    epochs = 5  # 5\n",
        "    encoder_lr = 20e-6\n",
        "    decoder_lr = 20e-6\n",
        "    min_lr = 0.5e-6\n",
        "    eps = 1e-6\n",
        "    betas = (0.9, 0.999)\n",
        "    weight_decay = 0\n",
        "    num_fold = 5\n",
        "    batch_size = 20\n",
        "    seed = 1006\n",
        "    OUTPUT_DIR = '/content/drive/MyDrive/ccf/'\n",
        "    num_workers = 2\n",
        "    device='cuda'\n",
        "    print_freq = 100"
      ]
    },
    {
      "cell_type": "code",
      "source": [
        "def seed_everything(seed=42):\n",
        "    random.seed(seed)\n",
        "    os.environ['PYTHONHASHSEED'] = str(seed)\n",
        "    np.random.seed(seed)\n",
        "    torch.manual_seed(seed)\n",
        "    torch.cuda.manual_seed(seed)\n",
        "    torch.backends.cudnn.deterministic = True\n",
        "seed_everything(CFG.seed)"
      ],
      "metadata": {
        "id": "mykwcZyypr1O"
      },
      "execution_count": 27,
      "outputs": []
    },
    {
      "cell_type": "markdown",
      "metadata": {
        "id": "MrBpJ61KhbJ7"
      },
      "source": [
        "## 1. Read Data & EDA"
      ]
    },
    {
      "cell_type": "code",
      "execution_count": 28,
      "metadata": {
        "scrolled": true,
        "id": "69UrMW56hbJ9"
      },
      "outputs": [],
      "source": [
        "def read_jsonfile(file_name):\n",
        "    data = []\n",
        "    with open(file_name) as f:\n",
        "        for i in f.readlines():\n",
        "            data.append(json.loads(i))\n",
        "    return data\n",
        "\n",
        "train = pd.DataFrame(read_jsonfile(CFG.input_path + \"/train.json\"))\n",
        "#add = pd.read_csv('/content/drive/MyDrive/ccf/additional_train.csv')\n",
        "#train = pd.concat([train, add])\n",
        "test = pd.DataFrame(read_jsonfile(CFG.input_path + \"/testA.json\"))\n",
        "train['label_id'] = train['label_id'].apply(lambda x :int(x))\n",
        "train.reset_index(inplace=True)"
      ]
    },
    {
      "cell_type": "code",
      "execution_count": 29,
      "metadata": {
        "scrolled": true,
        "colab": {
          "base_uri": "https://localhost:8080/",
          "height": 624
        },
        "id": "jVY6fFsZhbJ_",
        "outputId": "d1db7e67-91af-4557-c146-01865733f361"
      },
      "outputs": [
        {
          "output_type": "execute_result",
          "data": {
            "text/plain": [
              "     index                                id              title  \\\n",
              "0        0  538f267d2e6fba48b1286fb7f1499fe7  一种信号的发送方法及基站、用户设备   \n",
              "1        1  635a7d4b6358b6ff24a324bb871505db     一种5G通讯电缆故障监控系统   \n",
              "2        2  aaf98d6bfe1932cf1a262812ca59d1ba        一种测试方法及电子设备   \n",
              "3        3  ad49c9ba6412452d9b25071af702f4fb          天线方位角调节装置   \n",
              "4        4  ffa2d7617b3eac3a1d7df01e5bb515a2        光纤老化预测方法及装置   \n",
              "..     ...                               ...                ...   \n",
              "953    953  6af8c4c55c93ee38b8912db4576b3cfc        一种信息处理方法及装置   \n",
              "954    954  bc94427b0ae4c5a734ef7d32d6a1b9ea        一种适用于安防的广告机   \n",
              "955    955  2b1d9b24b86b2e49f842bd2c93cb865c      一种广告投放控制方法及装置   \n",
              "956    956  674baad2739c09bc9cc759322a0085c7      一种广告数据推荐方法和系统   \n",
              "957    957  94b8d5a69a04bc931bb2d65ea95fc9b2     一种基于大数据的广告推送系统   \n",
              "\n",
              "              assignee                                           abstract  \\\n",
              "0             华为技术有限公司  一种信号的发送方法及基站、用户设备。在一个子帧中为多个用户设备配置的参考信号的符号和数据的符...   \n",
              "1    中铁二十二局集团电气化工程有限公司  本发明公开了一种5G通讯电缆故障监控系统，包括信号采样模块、补偿反馈模块，所述信号采样模块对...   \n",
              "2         腾讯科技(北京)有限公司  本发明提供了一种测试方法及电子设备，该方法包括：基于选取的测试任务确定目标测试用例，根据所述...   \n",
              "3       武汉虹信通信技术有限责任公司  一种天线方位角调节装置，包括对向的两个8字形支架(101)、动力输入电机(102)、主动齿轮...   \n",
              "4         新华三大数据技术有限公司  本申请提供一种光纤老化预测方法及装置，所述方法包括：获取待测光纤模块可接收的光信号的告警阈值...   \n",
              "..                 ...                                                ...   \n",
              "953       腾讯科技(深圳)有限公司  本发明公开了一种信息处理方法，所述方法包括：第一进程获取来自多个查询请求端的多个数据请求，所...   \n",
              "954    靖江天元爱尔瑞电子科技有限公司  本实用新型公开了一种适用于安防的广告机，包括支撑架，支撑架的上端设置有显示屏，显示屏与壳体配...   \n",
              "955       阿里巴巴(中国)有限公司  本发明公开了一种广告投放控制方法及装置，以解决现有技术中基于地域定向的广告投放方式准确度较低...   \n",
              "956       北京奇艺世纪科技有限公司  本发明公开了一种广告数据推荐方法和系统。所述方法包括：接收到用户对目标广告数据的浏览请求后，...   \n",
              "957     浙江华坤道威数据科技有限公司  本发明公开了一种基于大数据的广告推送系统，包括用户信息采集模块、大数据采集模块、数据处理模块...   \n",
              "\n",
              "     label_id  \n",
              "0           0  \n",
              "1           0  \n",
              "2           0  \n",
              "3           0  \n",
              "4           0  \n",
              "..        ...  \n",
              "953        35  \n",
              "954        35  \n",
              "955        35  \n",
              "956        35  \n",
              "957        35  \n",
              "\n",
              "[958 rows x 6 columns]"
            ],
            "text/html": [
              "\n",
              "  <div id=\"df-9c4d19f9-8f7a-4545-91b0-50cfc9815e9f\">\n",
              "    <div class=\"colab-df-container\">\n",
              "      <div>\n",
              "<style scoped>\n",
              "    .dataframe tbody tr th:only-of-type {\n",
              "        vertical-align: middle;\n",
              "    }\n",
              "\n",
              "    .dataframe tbody tr th {\n",
              "        vertical-align: top;\n",
              "    }\n",
              "\n",
              "    .dataframe thead th {\n",
              "        text-align: right;\n",
              "    }\n",
              "</style>\n",
              "<table border=\"1\" class=\"dataframe\">\n",
              "  <thead>\n",
              "    <tr style=\"text-align: right;\">\n",
              "      <th></th>\n",
              "      <th>index</th>\n",
              "      <th>id</th>\n",
              "      <th>title</th>\n",
              "      <th>assignee</th>\n",
              "      <th>abstract</th>\n",
              "      <th>label_id</th>\n",
              "    </tr>\n",
              "  </thead>\n",
              "  <tbody>\n",
              "    <tr>\n",
              "      <th>0</th>\n",
              "      <td>0</td>\n",
              "      <td>538f267d2e6fba48b1286fb7f1499fe7</td>\n",
              "      <td>一种信号的发送方法及基站、用户设备</td>\n",
              "      <td>华为技术有限公司</td>\n",
              "      <td>一种信号的发送方法及基站、用户设备。在一个子帧中为多个用户设备配置的参考信号的符号和数据的符...</td>\n",
              "      <td>0</td>\n",
              "    </tr>\n",
              "    <tr>\n",
              "      <th>1</th>\n",
              "      <td>1</td>\n",
              "      <td>635a7d4b6358b6ff24a324bb871505db</td>\n",
              "      <td>一种5G通讯电缆故障监控系统</td>\n",
              "      <td>中铁二十二局集团电气化工程有限公司</td>\n",
              "      <td>本发明公开了一种5G通讯电缆故障监控系统，包括信号采样模块、补偿反馈模块，所述信号采样模块对...</td>\n",
              "      <td>0</td>\n",
              "    </tr>\n",
              "    <tr>\n",
              "      <th>2</th>\n",
              "      <td>2</td>\n",
              "      <td>aaf98d6bfe1932cf1a262812ca59d1ba</td>\n",
              "      <td>一种测试方法及电子设备</td>\n",
              "      <td>腾讯科技(北京)有限公司</td>\n",
              "      <td>本发明提供了一种测试方法及电子设备，该方法包括：基于选取的测试任务确定目标测试用例，根据所述...</td>\n",
              "      <td>0</td>\n",
              "    </tr>\n",
              "    <tr>\n",
              "      <th>3</th>\n",
              "      <td>3</td>\n",
              "      <td>ad49c9ba6412452d9b25071af702f4fb</td>\n",
              "      <td>天线方位角调节装置</td>\n",
              "      <td>武汉虹信通信技术有限责任公司</td>\n",
              "      <td>一种天线方位角调节装置，包括对向的两个8字形支架(101)、动力输入电机(102)、主动齿轮...</td>\n",
              "      <td>0</td>\n",
              "    </tr>\n",
              "    <tr>\n",
              "      <th>4</th>\n",
              "      <td>4</td>\n",
              "      <td>ffa2d7617b3eac3a1d7df01e5bb515a2</td>\n",
              "      <td>光纤老化预测方法及装置</td>\n",
              "      <td>新华三大数据技术有限公司</td>\n",
              "      <td>本申请提供一种光纤老化预测方法及装置，所述方法包括：获取待测光纤模块可接收的光信号的告警阈值...</td>\n",
              "      <td>0</td>\n",
              "    </tr>\n",
              "    <tr>\n",
              "      <th>...</th>\n",
              "      <td>...</td>\n",
              "      <td>...</td>\n",
              "      <td>...</td>\n",
              "      <td>...</td>\n",
              "      <td>...</td>\n",
              "      <td>...</td>\n",
              "    </tr>\n",
              "    <tr>\n",
              "      <th>953</th>\n",
              "      <td>953</td>\n",
              "      <td>6af8c4c55c93ee38b8912db4576b3cfc</td>\n",
              "      <td>一种信息处理方法及装置</td>\n",
              "      <td>腾讯科技(深圳)有限公司</td>\n",
              "      <td>本发明公开了一种信息处理方法，所述方法包括：第一进程获取来自多个查询请求端的多个数据请求，所...</td>\n",
              "      <td>35</td>\n",
              "    </tr>\n",
              "    <tr>\n",
              "      <th>954</th>\n",
              "      <td>954</td>\n",
              "      <td>bc94427b0ae4c5a734ef7d32d6a1b9ea</td>\n",
              "      <td>一种适用于安防的广告机</td>\n",
              "      <td>靖江天元爱尔瑞电子科技有限公司</td>\n",
              "      <td>本实用新型公开了一种适用于安防的广告机，包括支撑架，支撑架的上端设置有显示屏，显示屏与壳体配...</td>\n",
              "      <td>35</td>\n",
              "    </tr>\n",
              "    <tr>\n",
              "      <th>955</th>\n",
              "      <td>955</td>\n",
              "      <td>2b1d9b24b86b2e49f842bd2c93cb865c</td>\n",
              "      <td>一种广告投放控制方法及装置</td>\n",
              "      <td>阿里巴巴(中国)有限公司</td>\n",
              "      <td>本发明公开了一种广告投放控制方法及装置，以解决现有技术中基于地域定向的广告投放方式准确度较低...</td>\n",
              "      <td>35</td>\n",
              "    </tr>\n",
              "    <tr>\n",
              "      <th>956</th>\n",
              "      <td>956</td>\n",
              "      <td>674baad2739c09bc9cc759322a0085c7</td>\n",
              "      <td>一种广告数据推荐方法和系统</td>\n",
              "      <td>北京奇艺世纪科技有限公司</td>\n",
              "      <td>本发明公开了一种广告数据推荐方法和系统。所述方法包括：接收到用户对目标广告数据的浏览请求后，...</td>\n",
              "      <td>35</td>\n",
              "    </tr>\n",
              "    <tr>\n",
              "      <th>957</th>\n",
              "      <td>957</td>\n",
              "      <td>94b8d5a69a04bc931bb2d65ea95fc9b2</td>\n",
              "      <td>一种基于大数据的广告推送系统</td>\n",
              "      <td>浙江华坤道威数据科技有限公司</td>\n",
              "      <td>本发明公开了一种基于大数据的广告推送系统，包括用户信息采集模块、大数据采集模块、数据处理模块...</td>\n",
              "      <td>35</td>\n",
              "    </tr>\n",
              "  </tbody>\n",
              "</table>\n",
              "<p>958 rows × 6 columns</p>\n",
              "</div>\n",
              "      <button class=\"colab-df-convert\" onclick=\"convertToInteractive('df-9c4d19f9-8f7a-4545-91b0-50cfc9815e9f')\"\n",
              "              title=\"Convert this dataframe to an interactive table.\"\n",
              "              style=\"display:none;\">\n",
              "        \n",
              "  <svg xmlns=\"http://www.w3.org/2000/svg\" height=\"24px\"viewBox=\"0 0 24 24\"\n",
              "       width=\"24px\">\n",
              "    <path d=\"M0 0h24v24H0V0z\" fill=\"none\"/>\n",
              "    <path d=\"M18.56 5.44l.94 2.06.94-2.06 2.06-.94-2.06-.94-.94-2.06-.94 2.06-2.06.94zm-11 1L8.5 8.5l.94-2.06 2.06-.94-2.06-.94L8.5 2.5l-.94 2.06-2.06.94zm10 10l.94 2.06.94-2.06 2.06-.94-2.06-.94-.94-2.06-.94 2.06-2.06.94z\"/><path d=\"M17.41 7.96l-1.37-1.37c-.4-.4-.92-.59-1.43-.59-.52 0-1.04.2-1.43.59L10.3 9.45l-7.72 7.72c-.78.78-.78 2.05 0 2.83L4 21.41c.39.39.9.59 1.41.59.51 0 1.02-.2 1.41-.59l7.78-7.78 2.81-2.81c.8-.78.8-2.07 0-2.86zM5.41 20L4 18.59l7.72-7.72 1.47 1.35L5.41 20z\"/>\n",
              "  </svg>\n",
              "      </button>\n",
              "      \n",
              "  <style>\n",
              "    .colab-df-container {\n",
              "      display:flex;\n",
              "      flex-wrap:wrap;\n",
              "      gap: 12px;\n",
              "    }\n",
              "\n",
              "    .colab-df-convert {\n",
              "      background-color: #E8F0FE;\n",
              "      border: none;\n",
              "      border-radius: 50%;\n",
              "      cursor: pointer;\n",
              "      display: none;\n",
              "      fill: #1967D2;\n",
              "      height: 32px;\n",
              "      padding: 0 0 0 0;\n",
              "      width: 32px;\n",
              "    }\n",
              "\n",
              "    .colab-df-convert:hover {\n",
              "      background-color: #E2EBFA;\n",
              "      box-shadow: 0px 1px 2px rgba(60, 64, 67, 0.3), 0px 1px 3px 1px rgba(60, 64, 67, 0.15);\n",
              "      fill: #174EA6;\n",
              "    }\n",
              "\n",
              "    [theme=dark] .colab-df-convert {\n",
              "      background-color: #3B4455;\n",
              "      fill: #D2E3FC;\n",
              "    }\n",
              "\n",
              "    [theme=dark] .colab-df-convert:hover {\n",
              "      background-color: #434B5C;\n",
              "      box-shadow: 0px 1px 3px 1px rgba(0, 0, 0, 0.15);\n",
              "      filter: drop-shadow(0px 1px 2px rgba(0, 0, 0, 0.3));\n",
              "      fill: #FFFFFF;\n",
              "    }\n",
              "  </style>\n",
              "\n",
              "      <script>\n",
              "        const buttonEl =\n",
              "          document.querySelector('#df-9c4d19f9-8f7a-4545-91b0-50cfc9815e9f button.colab-df-convert');\n",
              "        buttonEl.style.display =\n",
              "          google.colab.kernel.accessAllowed ? 'block' : 'none';\n",
              "\n",
              "        async function convertToInteractive(key) {\n",
              "          const element = document.querySelector('#df-9c4d19f9-8f7a-4545-91b0-50cfc9815e9f');\n",
              "          const dataTable =\n",
              "            await google.colab.kernel.invokeFunction('convertToInteractive',\n",
              "                                                     [key], {});\n",
              "          if (!dataTable) return;\n",
              "\n",
              "          const docLinkHtml = 'Like what you see? Visit the ' +\n",
              "            '<a target=\"_blank\" href=https://colab.research.google.com/notebooks/data_table.ipynb>data table notebook</a>'\n",
              "            + ' to learn more about interactive tables.';\n",
              "          element.innerHTML = '';\n",
              "          dataTable['output_type'] = 'display_data';\n",
              "          await google.colab.output.renderOutput(dataTable, element);\n",
              "          const docLink = document.createElement('div');\n",
              "          docLink.innerHTML = docLinkHtml;\n",
              "          element.appendChild(docLink);\n",
              "        }\n",
              "      </script>\n",
              "    </div>\n",
              "  </div>\n",
              "  "
            ]
          },
          "metadata": {},
          "execution_count": 29
        }
      ],
      "source": [
        "train"
      ]
    },
    {
      "cell_type": "markdown",
      "metadata": {
        "id": "kcHSw4IShbJ_"
      },
      "source": [
        "### 1.1 Label Distribution"
      ]
    },
    {
      "cell_type": "code",
      "execution_count": 30,
      "metadata": {
        "scrolled": true,
        "colab": {
          "base_uri": "https://localhost:8080/",
          "height": 283
        },
        "id": "FBTH1j2ghbKA",
        "outputId": "83995e31-756a-4ca7-bfc8-c1e3fdde8673"
      },
      "outputs": [
        {
          "output_type": "execute_result",
          "data": {
            "text/plain": [
              "<matplotlib.axes._subplots.AxesSubplot at 0x7fbb968a3550>"
            ]
          },
          "metadata": {},
          "execution_count": 30
        },
        {
          "output_type": "display_data",
          "data": {
            "text/plain": [
              "<Figure size 432x288 with 1 Axes>"
            ],
            "image/png": "[encoded data removed]"
          },
          "metadata": {
            "needs_background": "light"
          }
        }
      ],
      "source": [
        "train.label_id.hist()"
      ]
    },
    {
      "cell_type": "code",
      "source": [
        "train.label_id.describe()"
      ],
      "metadata": {
        "colab": {
          "base_uri": "https://localhost:8080/"
        },
        "id": "oaF42PzgdTIi",
        "outputId": "2ee154f0-b46e-4872-922e-0fd3938dd487"
      },
      "execution_count": 31,
      "outputs": [
        {
          "output_type": "execute_result",
          "data": {
            "text/plain": [
              "count    958.000000\n",
              "mean      11.140919\n",
              "std        9.325865\n",
              "min        0.000000\n",
              "25%        3.000000\n",
              "50%        8.000000\n",
              "75%       17.750000\n",
              "max       35.000000\n",
              "Name: label_id, dtype: float64"
            ]
          },
          "metadata": {},
          "execution_count": 31
        }
      ]
    },
    {
      "cell_type": "markdown",
      "metadata": {
        "id": "XOEhmIyyhbKB"
      },
      "source": [
        "### 1.2 Input Length Analysis"
      ]
    },
    {
      "cell_type": "code",
      "execution_count": 32,
      "metadata": {
        "colab": {
          "base_uri": "https://localhost:8080/",
          "height": 284
        },
        "id": "xKobJHMZhbKB",
        "outputId": "57002777-47b6-455e-abb7-951022fec7ce"
      },
      "outputs": [
        {
          "output_type": "execute_result",
          "data": {
            "text/plain": [
              "<matplotlib.axes._subplots.AxesSubplot at 0x7fbb9659aa10>"
            ]
          },
          "metadata": {},
          "execution_count": 32
        },
        {
          "output_type": "display_data",
          "data": {
            "text/plain": [
              "<Figure size 432x288 with 1 Axes>"
            ],
            "image/png": "[encoded data removed]"
          },
          "metadata": {
            "needs_background": "light"
          }
        }
      ],
      "source": [
        "train['title_len'] = train['title'].apply(lambda x: len(x))\n",
        "train['title_len'].hist()"
      ]
    },
    {
      "cell_type": "code",
      "source": [
        "train['title_len'].describe()"
      ],
      "metadata": {
        "colab": {
          "base_uri": "https://localhost:8080/"
        },
        "id": "jW4wfqaEeXDA",
        "outputId": "711f4920-9bde-4f36-b32c-69d6a5d57751"
      },
      "execution_count": 37,
      "outputs": [
        {
          "output_type": "execute_result",
          "data": {
            "text/plain": [
              "count    958.000000\n",
              "mean      16.423800\n",
              "std        6.028142\n",
              "min        2.000000\n",
              "25%       12.000000\n",
              "50%       16.000000\n",
              "75%       21.000000\n",
              "max       37.000000\n",
              "Name: title_len, dtype: float64"
            ]
          },
          "metadata": {},
          "execution_count": 37
        }
      ]
    },
    {
      "cell_type": "code",
      "execution_count": 36,
      "metadata": {
        "colab": {
          "base_uri": "https://localhost:8080/",
          "height": 283
        },
        "id": "seYqTDIPhbKC",
        "outputId": "23f96a01-38f8-4aa9-e14e-e466d39530a0"
      },
      "outputs": [
        {
          "output_type": "execute_result",
          "data": {
            "text/plain": [
              "<matplotlib.axes._subplots.AxesSubplot at 0x7fbb96366510>"
            ]
          },
          "metadata": {},
          "execution_count": 36
        },
        {
          "output_type": "display_data",
          "data": {
            "text/plain": [
              "<Figure size 432x288 with 1 Axes>"
            ],
            "image/png": "[encoded data removed]"
          },
          "metadata": {
            "needs_background": "light"
          }
        }
      ],
      "source": [
        "train['assignee_len'] = train['assignee'].apply(lambda x: len(x))\n",
        "train['assignee_len'].hist()"
      ]
    },
    {
      "cell_type": "code",
      "source": [
        "train['assignee_len'].describe()"
      ],
      "metadata": {
        "colab": {
          "base_uri": "https://localhost:8080/"
        },
        "id": "AsvY1v-zezA3",
        "outputId": "521b4651-4aaa-4c5d-e74d-f019f4af43fc"
      },
      "execution_count": 38,
      "outputs": [
        {
          "output_type": "execute_result",
          "data": {
            "text/plain": [
              "count    958.000000\n",
              "mean      10.494781\n",
              "std        4.019216\n",
              "min        2.000000\n",
              "25%        8.000000\n",
              "50%       11.000000\n",
              "75%       13.000000\n",
              "max       31.000000\n",
              "Name: assignee_len, dtype: float64"
            ]
          },
          "metadata": {},
          "execution_count": 38
        }
      ]
    },
    {
      "cell_type": "code",
      "execution_count": 39,
      "metadata": {
        "colab": {
          "base_uri": "https://localhost:8080/",
          "height": 283
        },
        "id": "wVL5eQa0hbKD",
        "outputId": "a624abd8-c57d-454b-f77e-8a95ff799e99"
      },
      "outputs": [
        {
          "output_type": "execute_result",
          "data": {
            "text/plain": [
              "<matplotlib.axes._subplots.AxesSubplot at 0x7fbb962f7090>"
            ]
          },
          "metadata": {},
          "execution_count": 39
        },
        {
          "output_type": "display_data",
          "data": {
            "text/plain": [
              "<Figure size 432x288 with 1 Axes>"
            ],
            "image/png": "[encoded data removed]"
          },
          "metadata": {
            "needs_background": "light"
          }
        }
      ],
      "source": [
        "train['abstract_len'] = train['abstract'].apply(lambda x: len(x))\n",
        "train['abstract_len'].hist()"
      ]
    },
    {
      "cell_type": "code",
      "source": [
        "train['abstract_len'].describe()"
      ],
      "metadata": {
        "colab": {
          "base_uri": "https://localhost:8080/"
        },
        "id": "DXAxxqp8fLfH",
        "outputId": "1c07df0b-326b-424d-a91d-da739d15907e"
      },
      "execution_count": 40,
      "outputs": [
        {
          "output_type": "execute_result",
          "data": {
            "text/plain": [
              "count    958.000000\n",
              "mean     254.092902\n",
              "std       52.885760\n",
              "min       59.000000\n",
              "25%      228.000000\n",
              "50%      271.000000\n",
              "75%      291.000000\n",
              "max      639.000000\n",
              "Name: abstract_len, dtype: float64"
            ]
          },
          "metadata": {},
          "execution_count": 40
        }
      ]
    },
    {
      "cell_type": "code",
      "execution_count": 35,
      "metadata": {
        "scrolled": true,
        "colab": {
          "base_uri": "https://localhost:8080/",
          "height": 283
        },
        "id": "Ytd7IkCAhbKE",
        "outputId": "e5f7b03e-e354-409d-9a74-2cad1076a512"
      },
      "outputs": [
        {
          "output_type": "execute_result",
          "data": {
            "text/plain": [
              "<matplotlib.axes._subplots.AxesSubplot at 0x7fbb963c1090>"
            ]
          },
          "metadata": {},
          "execution_count": 35
        },
        {
          "output_type": "display_data",
          "data": {
            "text/plain": [
              "<Figure size 432x288 with 1 Axes>"
            ],
            "image/png": "[encoded data removed]"
          },
          "metadata": {
            "needs_background": "light"
          }
        }
      ],
      "source": [
        "train['input_text'] = train['title'] + train['assignee'] + train['abstract']\n",
        "train['input_text_len'] = train['input_text'].apply(lambda x: len(x))\n",
        "train['input_text_len'].hist()"
      ]
    },
    {
      "cell_type": "markdown",
      "metadata": {
        "id": "w8lG3vk5hbKE"
      },
      "source": [
        "结论：\n",
        "训练数据较小仅有900条数据，test数据〉2w条，典型小样本训练场景\n",
        "输入文本长度普遍在350个字以下，超过400的词很少\n",
        "label的分布也不是很均衡，可能存在较难样本学习不充分的情况"
      ]
    },
    {
      "cell_type": "code",
      "execution_count": null,
      "metadata": {
        "scrolled": true,
        "colab": {
          "base_uri": "https://localhost:8080/"
        },
        "id": "GFl40iz6hbKF",
        "outputId": "881a726c-c6c4-4d63-e862-fe1f813a81bd"
      },
      "outputs": [
        {
          "output_type": "stream",
          "name": "stderr",
          "text": [
            "/usr/local/lib/python3.7/dist-packages/sklearn/model_selection/_split.py:680: UserWarning: The least populated class in y has only 4 members, which is less than n_splits=5.\n",
            "  UserWarning,\n"
          ]
        }
      ],
      "source": [
        "skf = StratifiedKFold(n_splits=5)\n",
        "for fold, (_, val_) in enumerate(skf.split(X=train, y=train.label_id, groups=train.label_id)):\n",
        "    train.loc[val_, \"fold\"] = int(fold)"
      ]
    },
    {
      "cell_type": "code",
      "execution_count": null,
      "metadata": {
        "scrolled": true,
        "colab": {
          "base_uri": "https://localhost:8080/"
        },
        "id": "EFZZ6X7VhbKF",
        "outputId": "cdb2f318-938b-421f-ce34-c27e04685807"
      },
      "outputs": [
        {
          "output_type": "execute_result",
          "data": {
            "text/plain": [
              "fold  label_id\n",
              "0.0   2           544\n",
              "      10          298\n",
              "      0           172\n",
              "      7           150\n",
              "      8           116\n",
              "                 ... \n",
              "4.0   29            1\n",
              "      31            1\n",
              "      32            1\n",
              "      33            1\n",
              "      35            1\n",
              "Name: label_id, Length: 179, dtype: int64"
            ]
          },
          "metadata": {},
          "execution_count": 14
        }
      ],
      "source": [
        "train.groupby('fold')['label_id'].value_counts()"
      ]
    },
    {
      "cell_type": "markdown",
      "metadata": {
        "id": "xRIgdvPChbKG"
      },
      "source": [
        "## 2. Build model Input and Dataset"
      ]
    },
    {
      "cell_type": "code",
      "execution_count": null,
      "metadata": {
        "id": "T2TmyJC_hbKG"
      },
      "outputs": [],
      "source": [
        "class TrainDataset(Dataset):\n",
        "    def __init__(self,df,tokenizer):\n",
        "        self.title = df['title'].values\n",
        "        self.assignee = df['assignee'].values\n",
        "        self.abstract = df['abstract'].values\n",
        "        self.label = df['label_id'].values\n",
        "        self.tokenizer = tokenizer\n",
        "        self.sep_token = tokenizer.sep_token\n",
        "    def __len__(self):\n",
        "        return len(self.title)\n",
        "    def __getitem__(self, item):\n",
        "        label = int(self.label[item])\n",
        "        title = self.title[item]\n",
        "        assignee = self.assignee[item]\n",
        "        abstract = self.abstract[item]\n",
        "        input_text =  title + self.sep_token + assignee + self.sep_token + abstract\n",
        "        inputs = self.tokenizer(input_text, truncation=True, max_length=400, padding='max_length')\n",
        "        return torch.as_tensor(inputs['input_ids'], dtype=torch.long), \\\n",
        "               torch.as_tensor(inputs['attention_mask'], dtype=torch.long), \\\n",
        "               torch.as_tensor(label, dtype=torch.long)"
      ]
    },
    {
      "cell_type": "markdown",
      "metadata": {
        "id": "BKCU5PeahbKH"
      },
      "source": [
        "## 3. Build Model"
      ]
    },
    {
      "cell_type": "code",
      "execution_count": null,
      "metadata": {
        "scrolled": true,
        "colab": {
          "base_uri": "https://localhost:8080/"
        },
        "id": "0JTytv2RhbKH",
        "outputId": "88ffbbcc-1ad6-459e-c56e-852e012b50ce"
      },
      "outputs": [
        {
          "output_type": "stream",
          "name": "stderr",
          "text": [
            "Some weights of the model checkpoint at hfl/chinese-roberta-wwm-ext were not used when initializing BertForSequenceClassification: ['cls.predictions.transform.LayerNorm.weight', 'cls.seq_relationship.weight', 'cls.seq_relationship.bias', 'cls.predictions.decoder.weight', 'cls.predictions.transform.LayerNorm.bias', 'cls.predictions.transform.dense.bias', 'cls.predictions.transform.dense.weight', 'cls.predictions.bias']\n",
            "- This IS expected if you are initializing BertForSequenceClassification from the checkpoint of a model trained on another task or with another architecture (e.g. initializing a BertForSequenceClassification model from a BertForPreTraining model).\n",
            "- This IS NOT expected if you are initializing BertForSequenceClassification from the checkpoint of a model that you expect to be exactly identical (initializing a BertForSequenceClassification model from a BertForSequenceClassification model).\n",
            "Some weights of BertForSequenceClassification were not initialized from the model checkpoint at hfl/chinese-roberta-wwm-ext and are newly initialized: ['classifier.bias', 'classifier.weight']\n",
            "You should probably TRAIN this model on a down-stream task to be able to use it for predictions and inference.\n"
          ]
        }
      ],
      "source": [
        "model = AutoModelForSequenceClassification.from_pretrained('hfl/chinese-roberta-wwm-ext',num_labels=36)\n",
        "tokenizer = AutoTokenizer.from_pretrained('hfl/chinese-roberta-wwm-ext')"
      ]
    },
    {
      "cell_type": "markdown",
      "metadata": {
        "id": "v0ukyVMxhbKH"
      },
      "source": [
        "## 4.Build train pipeline"
      ]
    },
    {
      "cell_type": "code",
      "execution_count": null,
      "metadata": {
        "id": "r4yGGljShbKI"
      },
      "outputs": [],
      "source": [
        "def get_score(preds, gts):\n",
        "    return f1_score(preds, gts, average='macro')"
      ]
    },
    {
      "cell_type": "code",
      "execution_count": null,
      "metadata": {
        "id": "o4Q6DGkohbKI"
      },
      "outputs": [],
      "source": [
        "def train_fn(train_loader, model, optimizer, epoch, scheduler, device):\n",
        "    model.train()\n",
        "    losses = AverageMeter()\n",
        "    start = end = time.time()\n",
        "    global_step = 0\n",
        "    for step, batch in enumerate(train_loader):\n",
        "        label = batch[2].to(device)\n",
        "        mask = batch[1].to(device)\n",
        "        input_ids = batch[0].to(device)\n",
        "        batch_size = label.size(0)\n",
        "        output = model(input_ids, mask, labels=label)\n",
        "        loss = output.loss\n",
        "        losses.update(loss.item(), batch_size)\n",
        "        optimizer.zero_grad()\n",
        "        loss.backward()\n",
        "        grad_norm = torch.nn.utils.clip_grad_norm_(model.parameters(), 500)\n",
        "        optimizer.step()\n",
        "        global_step += 1\n",
        "        scheduler.step()\n",
        "        end = time.time()\n",
        "        if step % CFG.print_freq == 0 or step == (len(train_loader) - 1):\n",
        "            print('Epoch: [{0}][{1}/{2}] '\n",
        "                  'Elapsed {remain:s} '\n",
        "                  'Loss: {loss.val:.4f}({loss.avg:.4f}) '\n",
        "                  'Grad: {grad_norm:.4f}  '\n",
        "                  'LR: {lr:.8f}  '\n",
        "                  .format(epoch + 1, step, len(train_loader),\n",
        "                          remain=timeSince(start, float(step + 1) / len(train_loader)),\n",
        "                          loss=losses,\n",
        "                          grad_norm=grad_norm,\n",
        "                          lr=scheduler.get_lr()[0]))\n",
        "    return losses.avg\n",
        "\n",
        "def valid_fn(valid_loader, model, device):\n",
        "    losses = AverageMeter()\n",
        "    model.eval()\n",
        "    preds = []\n",
        "    labels = []\n",
        "    start = end = time.time()\n",
        "    for step, batch in enumerate(valid_loader):\n",
        "        label = batch[2].to(device)\n",
        "        mask = batch[1].to(device)\n",
        "        input_ids = batch[0].to(device)\n",
        "        batch_size = label.size(0)\n",
        "        with torch.no_grad():\n",
        "            output = model(input_ids, mask, labels=label)\n",
        "        loss = output.loss\n",
        "        y_preds = output.logits.argmax(dim=-1)\n",
        "        losses.update(loss.item(), batch_size)\n",
        "        preds.append(y_preds.to('cpu').numpy())\n",
        "        labels.append(label.to('cpu').numpy())\n",
        "        end = time.time()\n",
        "        if step % CFG.print_freq == 0 or step == (len(valid_loader) - 1):\n",
        "            print('EVAL: [{0}/{1}] '\n",
        "                  'Elapsed {remain:s} '\n",
        "                  'Loss: {loss.val:.4f}({loss.avg:.4f}) '\n",
        "                  .format(step, len(valid_loader),\n",
        "                          loss=losses,\n",
        "                          remain=timeSince(start, float(step + 1) / len(valid_loader))))\n",
        "    predictions = np.concatenate(preds)\n",
        "    labels = np.concatenate(labels)\n",
        "    return losses.avg, predictions, labels\n",
        "\n",
        "\n",
        "def train_loop(fold, model, train_dataset, valid_dataset):\n",
        "    LOGGER.info(f\"========== training ==========\")\n",
        "\n",
        "    # ====================================================\n",
        "    # loader\n",
        "    # ====================================================\n",
        "\n",
        "    train_loader = DataLoader(train_dataset,\n",
        "                              batch_size=CFG.batch_size,\n",
        "                              shuffle=True,\n",
        "                              num_workers=CFG.num_workers, pin_memory=True, drop_last=True)\n",
        "    valid_loader = DataLoader(valid_dataset,\n",
        "                              batch_size=CFG.batch_size * 2,\n",
        "                              shuffle=False,\n",
        "                              num_workers=CFG.num_workers, pin_memory=True, drop_last=False)\n",
        "\n",
        "    # ====================================================\n",
        "    # model & optimizer\n",
        "    # ====================================================\n",
        "    #model = Custom_Bert_Simple()\n",
        "    #model = AutoModelForSequenceClassification.from_pretrained(CFG.model_path, num_labels=1)\n",
        "    model.to(CFG.device)\n",
        "\n",
        "    def get_optimizer_params(model, encoder_lr, decoder_lr, weight_decay=0.0):\n",
        "        param_optimizer = list(model.named_parameters())\n",
        "        no_decay = [\"bias\", \"LayerNorm.bias\", \"LayerNorm.weight\"]\n",
        "        optimizer_parameters = [\n",
        "            {'params': [p for n, p in model.named_parameters() if not any(nd in n for nd in no_decay)],\n",
        "             'lr': encoder_lr, 'weight_decay': weight_decay},\n",
        "            {'params': [p for n, p in model.named_parameters() if any(nd in n for nd in no_decay)],\n",
        "             'lr': encoder_lr, 'weight_decay': 0.0},\n",
        "        ]\n",
        "        return optimizer_parameters\n",
        "\n",
        "    optimizer_parameters = get_optimizer_params(model,\n",
        "                                                encoder_lr=CFG.encoder_lr,\n",
        "                                                decoder_lr=CFG.decoder_lr,\n",
        "                                                weight_decay=CFG.weight_decay)\n",
        "    optimizer = AdamW(optimizer_parameters, lr=CFG.encoder_lr, eps=CFG.eps, betas=CFG.betas)\n",
        "\n",
        "    # ====================================================\n",
        "    # scheduler\n",
        "    # ====================================================\n",
        "    def get_scheduler(cfg, optimizer, num_train_steps):\n",
        "        cfg.num_warmup_steps = cfg.num_warmup_steps * num_train_steps\n",
        "        if cfg.scheduler == 'linear':\n",
        "            scheduler = get_linear_schedule_with_warmup(\n",
        "                optimizer, num_warmup_steps=cfg.num_warmup_steps, num_training_steps=num_train_steps\n",
        "            )\n",
        "        elif cfg.scheduler == 'cosine':\n",
        "            scheduler = get_cosine_schedule_with_warmup(\n",
        "                optimizer, num_warmup_steps=cfg.num_warmup_steps, num_training_steps=num_train_steps,\n",
        "                num_cycles=cfg.num_cycles\n",
        "            )\n",
        "        return scheduler\n",
        "\n",
        "    num_train_steps = int(len(train_dataset) / CFG.batch_size * CFG.epochs)\n",
        "    scheduler = get_scheduler(CFG, optimizer, num_train_steps)\n",
        "\n",
        "    # ====================================================\n",
        "    # loop\n",
        "    # ====================================================\n",
        "    # criterion = torch.nn.CrossEntropyLoss(ignore_index=- 1)\n",
        "\n",
        "    # criterion = LabelSmoothingLoss()\n",
        "    best_score = 0.\n",
        "\n",
        "    for epoch in range(CFG.epochs):\n",
        "\n",
        "        start_time = time.time()\n",
        "\n",
        "        # train\n",
        "        avg_loss = train_fn(train_loader, model, optimizer, epoch, scheduler, CFG.device)\n",
        "\n",
        "        # eval\n",
        "        avg_val_loss, predictions, valid_labels = valid_fn(valid_loader, model, CFG.device)\n",
        "\n",
        "        # scoring\n",
        "        score = get_score(predictions, valid_labels)\n",
        "\n",
        "        elapsed = time.time() - start_time\n",
        "\n",
        "        LOGGER.info(\n",
        "            f'Epoch {epoch + 1} - avg_train_loss: {avg_loss:.4f}  avg_val_loss: {avg_val_loss:.4f}  time: {elapsed:.0f}s')\n",
        "        LOGGER.info(f'Epoch {epoch + 1} - Score: {score:.4f}')\n",
        "\n",
        "\n",
        "        if best_score < score:\n",
        "            best_score = score\n",
        "            best_predictions = predictions\n",
        "            LOGGER.info(f'Epoch {epoch + 1} - Save Best Score: {best_score:.4f} Model')\n",
        "            torch.save({'model': model.state_dict(),\n",
        "                        'predictions': predictions},\n",
        "                       CFG.OUTPUT_DIR + \"{}_best{}.pth\".format(CFG.model_path.replace('/', '_'),fold))\n",
        "\n",
        "\n",
        "\n",
        "    torch.cuda.empty_cache()\n",
        "    gc.collect()\n",
        "    del scheduler, optimizer, model\n",
        "    return best_predictions\n"
      ]
    },
    {
      "cell_type": "markdown",
      "metadata": {
        "id": "5oQ5XGEnhbKJ"
      },
      "source": [
        "## 5.Build Logger"
      ]
    },
    {
      "cell_type": "code",
      "execution_count": null,
      "metadata": {
        "id": "DhZV-ZKshbKK"
      },
      "outputs": [],
      "source": [
        "class AverageMeter(object):\n",
        "    \"\"\"Computes and stores the average and current value\"\"\"\n",
        "\n",
        "    def __init__(self):\n",
        "        self.reset()\n",
        "\n",
        "    def reset(self):\n",
        "        self.val = 0\n",
        "        self.avg = 0\n",
        "        self.sum = 0\n",
        "        self.count = 0\n",
        "\n",
        "    def update(self, val, n=1):\n",
        "        self.val = val\n",
        "        self.sum += val * n\n",
        "        self.count += n\n",
        "        self.avg = self.sum / self.count\n",
        "\n",
        "\n",
        "def asMinutes(s):\n",
        "    m = math.floor(s / 60)\n",
        "    s -= m * 60\n",
        "    return '%dm %ds' % (m, s)\n",
        "\n",
        "\n",
        "def timeSince(since, percent):\n",
        "    now = time.time()\n",
        "    s = now - since\n",
        "    es = s / (percent)\n",
        "    rs = es - s\n",
        "    return '%s (remain %s)' % (asMinutes(s), asMinutes(rs))"
      ]
    },
    {
      "cell_type": "code",
      "execution_count": null,
      "metadata": {
        "colab": {
          "base_uri": "https://localhost:8080/"
        },
        "id": "mcxdTETChbKK",
        "outputId": "f90e22a5-c55b-49c3-ca5c-aa7ee923eb1e"
      },
      "outputs": [
        {
          "output_type": "stream",
          "name": "stderr",
          "text": [
            "===============lr_2e-05===============\n",
            "INFO:__main__:===============lr_2e-05===============\n",
            "===============seed_1006===============\n",
            "INFO:__main__:===============seed_1006===============\n",
            "===============total_epochs_5===============\n",
            "INFO:__main__:===============total_epochs_5===============\n",
            "===============num_warmup_steps_0===============\n",
            "INFO:__main__:===============num_warmup_steps_0===============\n"
          ]
        }
      ],
      "source": [
        "def get_logger(filename=CFG.OUTPUT_DIR+ 'train'):\n",
        "    from logging import getLogger, INFO, StreamHandler, FileHandler, Formatter\n",
        "    logger = getLogger(__name__)\n",
        "    logger.setLevel(INFO)\n",
        "    handler1 = StreamHandler()\n",
        "    handler1.setFormatter(Formatter(\"%(message)s\"))\n",
        "    handler2 = FileHandler(filename=f\"{filename}.log\")\n",
        "    handler2.setFormatter(Formatter(\"%(message)s\"))\n",
        "    logger.addHandler(handler1)\n",
        "    logger.addHandler(handler2)\n",
        "    return logger\n",
        "\n",
        "LOGGER = get_logger()\n",
        "LOGGER.info('===============lr_{}==============='.format(CFG.encoder_lr))\n",
        "LOGGER.info('===============seed_{}==============='.format(CFG.seed))\n",
        "LOGGER.info('===============total_epochs_{}==============='.format(CFG.epochs))\n",
        "LOGGER.info('===============num_warmup_steps_{}==============='.format(CFG.num_warmup_steps))"
      ]
    },
    {
      "cell_type": "code",
      "execution_count": null,
      "metadata": {
        "colab": {
          "base_uri": "https://localhost:8080/"
        },
        "id": "4TRMLFrnhbKL",
        "outputId": "e7486b01-830b-4236-a232-a3d6411dd735"
      },
      "outputs": [
        {
          "output_type": "stream",
          "name": "stderr",
          "text": [
            "========== training ==========\n",
            "INFO:__main__:========== training ==========\n",
            "/usr/local/lib/python3.7/dist-packages/transformers/optimization.py:310: FutureWarning: This implementation of AdamW is deprecated and will be removed in a future version. Use the PyTorch implementation torch.optim.AdamW instead, or set `no_deprecation_warning=True` to disable this warning\n",
            "  FutureWarning,\n",
            "/usr/local/lib/python3.7/dist-packages/torch/optim/lr_scheduler.py:249: UserWarning: To get the last learning rate computed by the scheduler, please use `get_last_lr()`.\n",
            "  warnings.warn(\"To get the last learning rate computed by the scheduler, \"\n"
          ]
        },
        {
          "output_type": "stream",
          "name": "stdout",
          "text": [
            "Epoch: [1][0/363] Elapsed 0m 2s (remain 15m 0s) Loss: 3.6682(3.6682) Grad: 10.7638  LR: 0.00002000  \n",
            "Epoch: [1][100/363] Elapsed 0m 47s (remain 2m 2s) Loss: 0.3283(1.5552) Grad: 3.1495  LR: 0.00001985  \n",
            "Epoch: [1][200/363] Elapsed 1m 31s (remain 1m 14s) Loss: 0.5031(0.9991) Grad: 14.2149  LR: 0.00001940  \n",
            "Epoch: [1][300/363] Elapsed 2m 17s (remain 0m 28s) Loss: 0.3651(0.7701) Grad: 13.5713  LR: 0.00001868  \n",
            "Epoch: [1][362/363] Elapsed 2m 45s (remain 0m 0s) Loss: 0.5432(0.6894) Grad: 8.3376  LR: 0.00001810  \n",
            "EVAL: [0/46] Elapsed 0m 0s (remain 0m 24s) Loss: 1.0636(1.0636) \n"
          ]
        },
        {
          "output_type": "stream",
          "name": "stderr",
          "text": [
            "Epoch 1 - avg_train_loss: 0.6894  avg_val_loss: 0.5272  time: 178s\n",
            "INFO:__main__:Epoch 1 - avg_train_loss: 0.6894  avg_val_loss: 0.5272  time: 178s\n",
            "Epoch 1 - Score: 0.2813\n",
            "INFO:__main__:Epoch 1 - Score: 0.2813\n",
            "Epoch 1 - Save Best Score: 0.2813 Model\n",
            "INFO:__main__:Epoch 1 - Save Best Score: 0.2813 Model\n"
          ]
        },
        {
          "output_type": "stream",
          "name": "stdout",
          "text": [
            "EVAL: [45/46] Elapsed 0m 12s (remain 0m 0s) Loss: 0.1415(0.5272) \n"
          ]
        },
        {
          "output_type": "stream",
          "name": "stderr",
          "text": [
            "/usr/local/lib/python3.7/dist-packages/torch/optim/lr_scheduler.py:249: UserWarning: To get the last learning rate computed by the scheduler, please use `get_last_lr()`.\n",
            "  warnings.warn(\"To get the last learning rate computed by the scheduler, \"\n"
          ]
        },
        {
          "output_type": "stream",
          "name": "stdout",
          "text": [
            "Epoch: [2][0/363] Elapsed 0m 0s (remain 3m 40s) Loss: 0.3873(0.3873) Grad: 2.1642  LR: 0.00001809  \n",
            "Epoch: [2][100/363] Elapsed 0m 45s (remain 1m 57s) Loss: 0.1284(0.2015) Grad: 9.5585  LR: 0.00001695  \n",
            "Epoch: [2][200/363] Elapsed 1m 29s (remain 1m 12s) Loss: 0.0295(0.2085) Grad: 0.4939  LR: 0.00001561  \n",
            "Epoch: [2][300/363] Elapsed 2m 14s (remain 0m 27s) Loss: 0.2590(0.1945) Grad: 2.2189  LR: 0.00001411  \n",
            "Epoch: [2][362/363] Elapsed 2m 41s (remain 0m 0s) Loss: 0.2931(0.1896) Grad: 6.1640  LR: 0.00001311  \n",
            "EVAL: [0/46] Elapsed 0m 0s (remain 0m 20s) Loss: 1.2757(1.2757) \n"
          ]
        },
        {
          "output_type": "stream",
          "name": "stderr",
          "text": [
            "Epoch 2 - avg_train_loss: 0.1896  avg_val_loss: 0.5060  time: 175s\n",
            "INFO:__main__:Epoch 2 - avg_train_loss: 0.1896  avg_val_loss: 0.5060  time: 175s\n",
            "Epoch 2 - Score: 0.4055\n",
            "INFO:__main__:Epoch 2 - Score: 0.4055\n",
            "Epoch 2 - Save Best Score: 0.4055 Model\n",
            "INFO:__main__:Epoch 2 - Save Best Score: 0.4055 Model\n"
          ]
        },
        {
          "output_type": "stream",
          "name": "stdout",
          "text": [
            "EVAL: [45/46] Elapsed 0m 12s (remain 0m 0s) Loss: 0.0223(0.5060) \n"
          ]
        },
        {
          "output_type": "stream",
          "name": "stderr",
          "text": [
            "/usr/local/lib/python3.7/dist-packages/torch/optim/lr_scheduler.py:249: UserWarning: To get the last learning rate computed by the scheduler, please use `get_last_lr()`.\n",
            "  warnings.warn(\"To get the last learning rate computed by the scheduler, \"\n"
          ]
        },
        {
          "output_type": "stream",
          "name": "stdout",
          "text": [
            "Epoch: [3][0/363] Elapsed 0m 0s (remain 3m 37s) Loss: 0.1178(0.1178) Grad: 6.5225  LR: 0.00001309  \n",
            "Epoch: [3][100/363] Elapsed 0m 45s (remain 1m 57s) Loss: 0.2613(0.1235) Grad: 4.5392  LR: 0.00001141  \n",
            "Epoch: [3][200/363] Elapsed 1m 29s (remain 1m 12s) Loss: 0.0246(0.1327) Grad: 1.0557  LR: 0.00000969  \n",
            "Epoch: [3][300/363] Elapsed 2m 14s (remain 0m 27s) Loss: 0.1279(0.1274) Grad: 1.6498  LR: 0.00000798  \n",
            "Epoch: [3][362/363] Elapsed 2m 41s (remain 0m 0s) Loss: 0.0190(0.1214) Grad: 0.3250  LR: 0.00000694  \n",
            "EVAL: [0/46] Elapsed 0m 0s (remain 0m 19s) Loss: 1.1919(1.1919) \n"
          ]
        },
        {
          "output_type": "stream",
          "name": "stderr",
          "text": [
            "Epoch 3 - avg_train_loss: 0.1214  avg_val_loss: 0.4837  time: 175s\n",
            "INFO:__main__:Epoch 3 - avg_train_loss: 0.1214  avg_val_loss: 0.4837  time: 175s\n",
            "Epoch 3 - Score: 0.4719\n",
            "INFO:__main__:Epoch 3 - Score: 0.4719\n",
            "Epoch 3 - Save Best Score: 0.4719 Model\n",
            "INFO:__main__:Epoch 3 - Save Best Score: 0.4719 Model\n"
          ]
        },
        {
          "output_type": "stream",
          "name": "stdout",
          "text": [
            "EVAL: [45/46] Elapsed 0m 12s (remain 0m 0s) Loss: 0.0146(0.4837) \n"
          ]
        },
        {
          "output_type": "stream",
          "name": "stderr",
          "text": [
            "/usr/local/lib/python3.7/dist-packages/torch/optim/lr_scheduler.py:249: UserWarning: To get the last learning rate computed by the scheduler, please use `get_last_lr()`.\n",
            "  warnings.warn(\"To get the last learning rate computed by the scheduler, \"\n"
          ]
        },
        {
          "output_type": "stream",
          "name": "stdout",
          "text": [
            "Epoch: [4][0/363] Elapsed 0m 0s (remain 3m 47s) Loss: 0.0126(0.0126) Grad: 0.2520  LR: 0.00000692  \n",
            "Epoch: [4][100/363] Elapsed 0m 45s (remain 1m 57s) Loss: 0.0155(0.0832) Grad: 0.1667  LR: 0.00000533  \n",
            "Epoch: [4][200/363] Elapsed 1m 29s (remain 1m 12s) Loss: 0.0138(0.0859) Grad: 0.1584  LR: 0.00000388  \n",
            "Epoch: [4][300/363] Elapsed 2m 14s (remain 0m 27s) Loss: 0.1539(0.0862) Grad: 2.3258  LR: 0.00000261  \n",
            "Epoch: [4][362/363] Elapsed 2m 41s (remain 0m 0s) Loss: 0.0196(0.0838) Grad: 0.2606  LR: 0.00000193  \n",
            "EVAL: [0/46] Elapsed 0m 0s (remain 0m 19s) Loss: 1.1729(1.1729) \n"
          ]
        },
        {
          "output_type": "stream",
          "name": "stderr",
          "text": [
            "Epoch 4 - avg_train_loss: 0.0838  avg_val_loss: 0.4870  time: 175s\n",
            "INFO:__main__:Epoch 4 - avg_train_loss: 0.0838  avg_val_loss: 0.4870  time: 175s\n",
            "Epoch 4 - Score: 0.5064\n",
            "INFO:__main__:Epoch 4 - Score: 0.5064\n",
            "Epoch 4 - Save Best Score: 0.5064 Model\n",
            "INFO:__main__:Epoch 4 - Save Best Score: 0.5064 Model\n"
          ]
        },
        {
          "output_type": "stream",
          "name": "stdout",
          "text": [
            "EVAL: [45/46] Elapsed 0m 12s (remain 0m 0s) Loss: 0.0153(0.4870) \n"
          ]
        },
        {
          "output_type": "stream",
          "name": "stderr",
          "text": [
            "/usr/local/lib/python3.7/dist-packages/torch/optim/lr_scheduler.py:249: UserWarning: To get the last learning rate computed by the scheduler, please use `get_last_lr()`.\n",
            "  warnings.warn(\"To get the last learning rate computed by the scheduler, \"\n"
          ]
        },
        {
          "output_type": "stream",
          "name": "stdout",
          "text": [
            "Epoch: [5][0/363] Elapsed 0m 0s (remain 3m 40s) Loss: 0.1152(0.1152) Grad: 4.0198  LR: 0.00000192  \n",
            "Epoch: [5][100/363] Elapsed 0m 45s (remain 1m 57s) Loss: 0.0129(0.0547) Grad: 0.1314  LR: 0.00000103  \n",
            "Epoch: [5][200/363] Elapsed 1m 29s (remain 1m 12s) Loss: 0.0123(0.0676) Grad: 0.1807  LR: 0.00000040  \n",
            "Epoch: [5][300/363] Elapsed 2m 14s (remain 0m 27s) Loss: 0.0155(0.0730) Grad: 0.4399  LR: 0.00000006  \n",
            "Epoch: [5][362/363] Elapsed 2m 41s (remain 0m 0s) Loss: 0.0875(0.0716) Grad: 3.3004  LR: 0.00000000  \n",
            "EVAL: [0/46] Elapsed 0m 0s (remain 0m 19s) Loss: 1.1973(1.1973) \n"
          ]
        },
        {
          "output_type": "stream",
          "name": "stderr",
          "text": [
            "Epoch 5 - avg_train_loss: 0.0716  avg_val_loss: 0.4866  time: 175s\n",
            "INFO:__main__:Epoch 5 - avg_train_loss: 0.0716  avg_val_loss: 0.4866  time: 175s\n",
            "Epoch 5 - Score: 0.5014\n",
            "INFO:__main__:Epoch 5 - Score: 0.5014\n"
          ]
        },
        {
          "output_type": "stream",
          "name": "stdout",
          "text": [
            "EVAL: [45/46] Elapsed 0m 12s (remain 0m 0s) Loss: 0.0110(0.4866) \n"
          ]
        }
      ],
      "source": [
        "fold = 0\n",
        "tr_data = train[train['fold']!=fold].reset_index(drop=True)\n",
        "va_data = train[train['fold']==fold].reset_index(drop=True)\n",
        "tr_dataset = TrainDataset(tr_data,tokenizer)\n",
        "va_dataset =TrainDataset(va_data,tokenizer)\n",
        "val_result = train_loop(fold, model,tr_dataset, va_dataset)"
      ]
    },
    {
      "cell_type": "markdown",
      "source": [
        "## Inference"
      ],
      "metadata": {
        "id": "YChdW-GfRVdh"
      }
    },
    {
      "cell_type": "code",
      "execution_count": null,
      "metadata": {
        "id": "_YQlpOUnhbKL",
        "colab": {
          "base_uri": "https://localhost:8080/"
        },
        "outputId": "48bd465f-7024-48a2-9888-01fd09b703c5"
      },
      "outputs": [
        {
          "output_type": "stream",
          "name": "stderr",
          "text": [
            "Some weights of the model checkpoint at hfl/chinese-roberta-wwm-ext were not used when initializing BertForSequenceClassification: ['cls.predictions.transform.LayerNorm.weight', 'cls.seq_relationship.weight', 'cls.seq_relationship.bias', 'cls.predictions.decoder.weight', 'cls.predictions.transform.LayerNorm.bias', 'cls.predictions.transform.dense.bias', 'cls.predictions.transform.dense.weight', 'cls.predictions.bias']\n",
            "- This IS expected if you are initializing BertForSequenceClassification from the checkpoint of a model trained on another task or with another architecture (e.g. initializing a BertForSequenceClassification model from a BertForPreTraining model).\n",
            "- This IS NOT expected if you are initializing BertForSequenceClassification from the checkpoint of a model that you expect to be exactly identical (initializing a BertForSequenceClassification model from a BertForSequenceClassification model).\n",
            "Some weights of BertForSequenceClassification were not initialized from the model checkpoint at hfl/chinese-roberta-wwm-ext and are newly initialized: ['classifier.bias', 'classifier.weight']\n",
            "You should probably TRAIN this model on a down-stream task to be able to use it for predictions and inference.\n",
            "521it [02:26,  3.56it/s]\n"
          ]
        }
      ],
      "source": [
        "class TestDataset(Dataset):\n",
        "    def __init__(self, df, tokenizer):\n",
        "        self.title = df['title'].values\n",
        "        self.assignee = df['assignee'].values\n",
        "        self.abstract = df['abstract'].values\n",
        "        self.tokenizer = tokenizer\n",
        "        self.sep_token = tokenizer.sep_token\n",
        "\n",
        "    def __len__(self):\n",
        "        return len(self.title)\n",
        "\n",
        "    def __getitem__(self, item):\n",
        "        title = self.title[item]\n",
        "        assignee = self.assignee[item]\n",
        "        abstract = self.abstract[item]\n",
        "        input_text = title + self.sep_token + assignee + self.sep_token + abstract\n",
        "        inputs = self.tokenizer(input_text, truncation=True, max_length=400, padding='max_length')\n",
        "        return torch.as_tensor(inputs['input_ids'], dtype=torch.long), \\\n",
        "               torch.as_tensor(inputs['attention_mask'], dtype=torch.long)\n",
        "\n",
        "def infer(test_loader, model, device):\n",
        "    model.to(device)\n",
        "    model.eval()\n",
        "    preds = []\n",
        "    probs = []\n",
        "    for step, batch in tqdm(enumerate(test_loader)):\n",
        "        mask = batch[1].to(device)\n",
        "        input_ids = batch[0].to(device)\n",
        "        with torch.no_grad():\n",
        "            output = model(input_ids=input_ids, attention_mask=mask)\n",
        "        logits = F.softmax(output.logits, dim=-1)\n",
        "        prob, y_preds = logits.max(dim=-1)\n",
        "        probs.append(prob.to('cpu').numpy())\n",
        "        preds.append(y_preds.to('cpu').numpy())\n",
        "\n",
        "    predictions = np.concatenate(preds)\n",
        "    probs = np.concatenate(probs)\n",
        "    return predictions, probs\n",
        "\n",
        "saved_path = CFG.OUTPUT_DIR + \"{}_best{}.pth\".format(CFG.model_path.replace('/', '_'),fold)\n",
        "model = AutoModelForSequenceClassification.from_pretrained('hfl/chinese-roberta-wwm-ext', num_labels=36)\n",
        "tokenizer = AutoTokenizer.from_pretrained('hfl/chinese-roberta-wwm-ext')\n",
        "model.load_state_dict(torch.load(saved_path)['model'])\n",
        "test_dataset = TestDataset(test, tokenizer)\n",
        "test_dataloader = DataLoader(test_dataset,\n",
        "                              batch_size=CFG.batch_size * 2,\n",
        "                              shuffle=False,\n",
        "                              num_workers=CFG.num_workers, pin_memory=True, drop_last=False)\n",
        "results, probs = infer(test_dataloader, model, CFG.device)\n",
        "test['label'] = results\n",
        "test['probs'] = probs\n",
        "test = test[['id', 'label']]\n",
        "test.to_csv('submit_A.csv', index=None)"
      ]
    }
  ],
  "metadata": {
    "kernelspec": {
      "display_name": "Python 3",
      "language": "python",
      "name": "python3"
    },
    "language_info": {
      "codemirror_mode": {
        "name": "ipython",
        "version": 3
      },
      "file_extension": ".py",
      "mimetype": "text/x-python",
      "name": "python",
      "nbconvert_exporter": "python",
      "pygments_lexer": "ipython3",
      "version": "3.7.9"
    },
    "colab": {
      "provenance": [],
      "collapsed_sections": [],
      "background_execution": "on"
    },
    "accelerator": "GPU",
    "gpuClass": "standard"
  },
  "nbformat": 4,
  "nbformat_minor": 0
}